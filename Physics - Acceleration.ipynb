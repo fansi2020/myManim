{
 "cells": [
  {
   "cell_type": "code",
   "execution_count": 42,
   "id": "38c44c81",
   "metadata": {},
   "outputs": [],
   "source": [
    "from manim import *\n",
    "\n",
    "config.media_width = \"75%\"\n",
    "config.verbosity = \"WARNING\""
   ]
  },
  {
   "cell_type": "code",
   "execution_count": 39,
   "id": "913f7403",
   "metadata": {},
   "outputs": [
    {
     "name": "stderr",
     "output_type": "stream",
     "text": [
      "                                                                                                                       \r"
     ]
    },
    {
     "data": {
      "text/html": [
       "<video src=\"media\\jupyter\\MyAnimation@2023-06-05@18-31-23.mp4\" controls autoplay loop style=\"max-width: 75%;\"  >\n",
       "      Your browser does not support the <code>video</code> element.\n",
       "    </video>"
      ],
      "text/plain": [
       "<IPython.core.display.Video object>"
      ]
     },
     "metadata": {},
     "output_type": "display_data"
    }
   ],
   "source": [
    "%%manim -qm MyAnimation\n",
    "\n",
    "class MyAnimation(Scene):\n",
    "    def construct(self):\n",
    "       # Define frame dimensions\n",
    "        FRAME_WIDTH = config[\"frame_width\"]\n",
    "        FRAME_HEIGHT = config[\"frame_height\"]\n",
    "\n",
    "        # Create ground\n",
    "        ground = Line(start=LEFT * FRAME_WIDTH, end=RIGHT * FRAME_WIDTH, color=WHITE).shift(2*DOWN)\n",
    "        self.play(Create(ground))\n",
    "\n",
    "        # Create wall\n",
    "        wall = Line(start=DOWN * 2, end=ORIGIN, color=WHITE)\n",
    "        self.play(Create(wall))\n",
    "        \n",
    "        # Create the lower block\n",
    "        lower_block = Rectangle(color=BLUE, fill_opacity=1)\n",
    "        lower_block.next_to(ground, UP, buff=0).shift(6*LEFT)\n",
    "        self.play(Create(lower_block))\n",
    "        \n",
    "        # Create the upper block\n",
    "        upper_block = Square(color=RED, fill_opacity=1)\n",
    "        upper_block.next_to(lower_block, UP, buff=0)\n",
    "        self.play(Create(upper_block))\n",
    "\n",
    "        #v\n",
    "        label_V = Text(\"V\")\n",
    "        label_V.next_to(lower_block, RIGHT, buff=0.5)\n",
    "        \n",
    "        # Set the initial velocities\n",
    "        lower_block_velocity = RIGHT * 3\n",
    "        upper_block_velocity = RIGHT * 3\n",
    "\n",
    "        # Add arrows to represent velocity, force, and acceleration\n",
    "        lower_block_velocity_arrow = Arrow(lower_block.get_center(), lower_block.get_center() + lower_block_velocity, color=GREEN)\n",
    "        upper_block_velocity_arrow = Arrow(upper_block.get_center(), upper_block.get_center() + upper_block_velocity, color=GREEN)\n",
    "        lower_block_force_arrow = Arrow(lower_block.get_center(), lower_block.get_center() + LEFT * 2, color=YELLOW)\n",
    "        upper_block_force_arrow = Arrow(upper_block.get_center(), upper_block.get_center() + RIGHT * 2, color=YELLOW)\n",
    "        lower_block_acceleration_arrow = Arrow(lower_block.get_center(), lower_block.get_center() + LEFT * 0.5, color=RED)\n",
    "        upper_block_acceleration_arrow = Arrow(upper_block.get_center(), upper_block.get_center() + RIGHT * 0.5, color=RED)\n",
    "\n",
    "        \n",
    "        # Add the arrows to the scene\n",
    "        #self.add(lower_block_velocity_arrow, upper_block_velocity_arrow, lower_block_force_arrow, upper_block_force_arrow, lower_block_acceleration_arrow, upper_block_acceleration_arrow)\n",
    "        self.add(lower_block_velocity_arrow)\n",
    "       "
   ]
  },
  {
   "cell_type": "code",
   "execution_count": 61,
   "id": "6a36958d",
   "metadata": {},
   "outputs": [
    {
     "name": "stderr",
     "output_type": "stream",
     "text": [
      "                                                                                                                       \r"
     ]
    },
    {
     "data": {
      "text/html": [
       "<video src=\"media\\jupyter\\SlidingBlocks@2023-06-05@19-00-06.mp4\" controls autoplay loop style=\"max-width: 75%;\"  >\n",
       "      Your browser does not support the <code>video</code> element.\n",
       "    </video>"
      ],
      "text/plain": [
       "<IPython.core.display.Video object>"
      ]
     },
     "metadata": {},
     "output_type": "display_data"
    }
   ],
   "source": [
    "%%manim -qm SlidingBlocks\n",
    "\n",
    "class SlidingBlocks(Scene):\n",
    "    \n",
    "    def construct(self):\n",
    "        # Define frame dimensions\n",
    "        FRAME_WIDTH = config[\"frame_width\"]\n",
    "        FRAME_HEIGHT = config[\"frame_height\"]\n",
    "        \n",
    "        # Create ground\n",
    "        ground = Line(start=LEFT * FRAME_WIDTH, end=RIGHT * FRAME_WIDTH, color=WHITE).shift(2*DOWN)\n",
    "        self.play(Create(ground))\n",
    "\n",
    "        # Create wall\n",
    "        wall = Line(start=DOWN * 2, end=ORIGIN, color=WHITE)\n",
    "        self.play(Create(wall))\n",
    "        \n",
    "        # 创建滑块\n",
    "        lower_block = Square(side_length=2, color=BLUE).next_to(ground, UP, buff=0).shift(6*LEFT)\n",
    "        upper_block = Square(side_length=1, color=RED).next_to(lower_block, UP, buff=0)\n",
    "\n",
    "        # 创建箭头\n",
    "        lower_block_velocity_arrow = Arrow(lower_block.get_center(), lower_block.get_center() + RIGHT * 2, color=YELLOW)\n",
    "        upper_block_velocity_arrow = Arrow(upper_block.get_center(), upper_block.get_center() + RIGHT * 2, color=YELLOW)\n",
    "        # 创建箭头附近的标签\n",
    "        lower_block_velocity_label = MathTex(\"V\").next_to(lower_block_velocity_arrow, RIGHT)\n",
    "        upper_block_velocity_label = MathTex(\"V\").next_to(upper_block_velocity_arrow, RIGHT)\n",
    "\n",
    "        # 添加滑块和箭头到场景\n",
    "        self.play(Create(lower_block), Create(upper_block))\n",
    "        self.play(Create(lower_block_velocity_arrow), Create(upper_block_velocity_arrow),Write(lower_block_velocity_label))\n",
    "        self.wait()\n",
    "\n",
    "        # 消失箭头\n",
    "        self.play(FadeOut(lower_block_velocity_arrow), FadeOut(upper_block_velocity_arrow),FadeOut(lower_block_velocity_label))\n",
    "        self.wait()\n",
    "\n",
    "        # 运动动画\n",
    "        self.play(\n",
    "            lower_block.animate.next_to(wall, LEFT, buff=0),\n",
    "            upper_block.animate.move_to(ORIGIN+LEFT+0.5*UP),\n",
    "            run_time=3\n",
    "        )\n",
    "        self.wait()\n",
    "\n",
    "        # 创建箭头表示力和加速度\n",
    "        lower_block_force_arrow = Arrow(lower_block.get_center(), lower_block.get_center() + LEFT * 2, color=GREEN)\n",
    "        upper_block_virtual_force_arrow = Arrow(upper_block.get_center(), upper_block.get_center() + RIGHT * 2, color=GREEN)\n",
    "        lower_block_acceleration_arrow = Arrow(lower_block.get_center(), lower_block.get_center() + LEFT * 0.5, color=ORANGE)\n",
    "        # 创建箭头附近的标签\n",
    "        upper_block_virtual_force_label = MathTex(\"F\").next_to(upper_block_virtual_force_arrow, LEFT)\n",
    "        lower_block_acceleration_label = MathTex(\"a\").next_to(lower_block_acceleration_arrow, RIGHT)\n",
    "\n",
    "\n",
    "        # 添加箭头到场景\n",
    "        self.play(Create(lower_block_force_arrow), Create(upper_block_virtual_force_arrow), Create(lower_block_acceleration_arrow),Write(lower_block_acceleration_label),Write(upper_block_virtual_force_label))\n",
    "        self.wait()\n",
    "\n",
    "        # 上滑块飞出动画\n",
    "        self.play(\n",
    "            upper_block.animate.shift(2 * RIGHT),\n",
    "            FadeOut(upper_block_virtual_force_arrow),\n",
    "            run_time=2\n",
    "        )\n",
    "        self.wait()\n",
    "\n",
    "        self.play(FadeOut(lower_block_force_arrow), FadeOut(lower_block_acceleration_arrow))\n",
    "        self.wait()\n"
   ]
  },
  {
   "cell_type": "code",
   "execution_count": null,
   "id": "478d1d02",
   "metadata": {},
   "outputs": [],
   "source": []
  }
 ],
 "metadata": {
  "kernelspec": {
   "display_name": "Python 3 (ipykernel)",
   "language": "python",
   "name": "python3"
  },
  "language_info": {
   "codemirror_mode": {
    "name": "ipython",
    "version": 3
   },
   "file_extension": ".py",
   "mimetype": "text/x-python",
   "name": "python",
   "nbconvert_exporter": "python",
   "pygments_lexer": "ipython3",
   "version": "3.9.16"
  }
 },
 "nbformat": 4,
 "nbformat_minor": 5
}
